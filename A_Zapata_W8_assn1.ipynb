{
 "cells": [
  {
   "cell_type": "markdown",
   "metadata": {},
   "source": [
    "# AIM 5001: Week 8 Regular Expressions\n",
    "\n",
    "#### Alejandra Zapata"
   ]
  },
  {
   "cell_type": "code",
   "execution_count": 719,
   "metadata": {
    "scrolled": true
   },
   "outputs": [
    {
     "name": "stdout",
     "output_type": "stream",
     "text": [
      "555-1239Moe Szyslak(636) 555-0113Burns, C. Montgomery555 -6542Rev. Timothy Lovejoy555 8904Ned Flanders636-555-3226Simpson, Homer5553642Dr. Julius Hibbert\n"
     ]
    }
   ],
   "source": [
    "import re\n",
    "import pandas as pd\n",
    "\n",
    "text= \"555-1239Moe Szyslak(636) 555-0113Burns, C. Montgomery555 -6542Rev. Timothy Lovejoy555 8904Ned Flanders636-555-3226Simpson, Homer5553642Dr. Julius Hibbert\"\n",
    "\n",
    "print(text)"
   ]
  },
  {
   "cell_type": "markdown",
   "metadata": {},
   "source": [
    "### Task 1\n",
    "#### 1. Extract the names of each individual from the unformatted text string and store them in a vector of some sort. \n",
    "\n",
    "* For the given expression I focused on writing the case for each type, making sure to include only the names. By writing each case, and not one general expression I had more control of the expressions for the following exercises.\n",
    "\n",
    "* Use re.findall() to obtain the names that matched the compiled pattern."
   ]
  },
  {
   "cell_type": "code",
   "execution_count": 720,
   "metadata": {
    "scrolled": true
   },
   "outputs": [
    {
     "name": "stdout",
     "output_type": "stream",
     "text": [
      "['Moe Szyslak', 'Burns, C. Montgomery', 'Rev. Timothy Lovejoy', 'Ned Flanders', 'Simpson, Homer', 'Dr. Julius Hibbert']\n"
     ]
    }
   ],
   "source": [
    "#determine the regular expression pattern for each case\n",
    "pattern=r'[A-Z][a-z,]+ [A-Z][a-z\\.]+ [A-Z][a-z]+|[A-Z][a-z\\.]+ [A-Z][a-z]+ [A-Z][a-z]+|[A-Z][a-z,\\.]+ [A-Z][a-z]+'\n",
    "#compile pattern\n",
    "regex= re.compile(pattern,flags=0)\n",
    "#findall matchign cases\n",
    "names=regex.findall(text)\n",
    "print(names)"
   ]
  },
  {
   "cell_type": "markdown",
   "metadata": {},
   "source": [
    "### Task 2\n",
    "\n",
    "#### a. Use your regex skills to rearrange the vector so that all elements conform to the standard “firstname lastname”, preserving any titles (e.g., “Rev.”, “Dr.”, etc) or middle/second names.\n",
    "\n",
    "* To apply the regex functions I transformed the list into one string where I could find the patterns I defined on Task 1 and rearrange them using the groups."
   ]
  },
  {
   "cell_type": "code",
   "execution_count": 594,
   "metadata": {},
   "outputs": [
    {
     "data": {
      "text/plain": [
       "\"'Moe Szyslak', 'Burns, C. Montgomery', 'Rev. Timothy Lovejoy', 'Ned Flanders', 'Simpson, Homer', 'Dr. Julius Hibbert'\""
      ]
     },
     "execution_count": 594,
     "metadata": {},
     "output_type": "execute_result"
    }
   ],
   "source": [
    "#create a string from the list names\n",
    "text1=str(names).strip('[]')\n",
    "text1"
   ]
  },
  {
   "cell_type": "code",
   "execution_count": 649,
   "metadata": {},
   "outputs": [
    {
     "data": {
      "text/plain": [
       "\"'Moe Szyslak', 'C.  Montgomery Burns,', 'Rev. Timothy Lovejoy', 'Ned Flanders', 'Simpson, Homer', 'Dr. Julius Hibbert'\""
      ]
     },
     "execution_count": 649,
     "metadata": {},
     "output_type": "execute_result"
    }
   ],
   "source": [
    "#pattern for Burns, C. Montgomery\n",
    "#pattern from Task 1 modified into groups \n",
    "pattern=r\"([A-Z][a-z,]+) ([A-Z][a-z\\.]+ )([A-Z][a-z]+)\"\n",
    "regex=re.compile(pattern)\n",
    "#use of regex.sub to change the order using the groups of patterns\n",
    "text2=regex.sub(r'\\2 \\3 \\1', text1)\n",
    "#create a new string to find the next case\n",
    "text2"
   ]
  },
  {
   "cell_type": "code",
   "execution_count": 730,
   "metadata": {},
   "outputs": [
    {
     "data": {
      "text/plain": [
       "\"'Moe Szyslak', 'C.  Montgomery Burns,', 'Rev. Timothy Lovejoy', 'Ned Flanders', 'Homer Simpson,', 'Dr. Julius Hibbert'\""
      ]
     },
     "execution_count": 730,
     "metadata": {},
     "output_type": "execute_result"
    }
   ],
   "source": [
    "#sorted text\n",
    "#pattern for Simpson, Homer\n",
    "#pattern from Task 1 modified into groups \n",
    "pattern=r\"([A-Z][a-z]+\\,) ([A-Z][a-z]+)\"\n",
    "regex=re.compile(pattern)\n",
    "#use of regex.sub to change the order using the groups of patterns\n",
    "text3=regex.sub(r'\\2 \\1', text2)\n",
    "#print final string with 'Title','First Name','Middle Name', 'Last Name'\n",
    "text3"
   ]
  },
  {
   "cell_type": "code",
   "execution_count": 732,
   "metadata": {
    "scrolled": true
   },
   "outputs": [
    {
     "data": {
      "text/plain": [
       "['Moe Szyslak',\n",
       " 'C.  Montgomery Burns',\n",
       " 'Rev. Timothy Lovejoy',\n",
       " 'Ned Flanders',\n",
       " 'Homer Simpson',\n",
       " 'Dr. Julius Hibbert']"
      ]
     },
     "execution_count": 732,
     "metadata": {},
     "output_type": "execute_result"
    }
   ],
   "source": [
    "#sorted list\n",
    "#get rid of comma on Burns and Simpson\n",
    "pattern=r\"([a-zA-Z\\.\\s]+[a-zA-Z\\.\\s]+)\"\n",
    "regex=re.compile(pattern,flags=0)\n",
    "#put text in a list for next step 2.b\n",
    "lst1=regex.findall(text3)\n",
    "lst1"
   ]
  },
  {
   "cell_type": "markdown",
   "metadata": {},
   "source": [
    "#### b. Construct a logical vector indicating whether a character has a title (i.e., Rev. and Dr.).\n",
    "\n",
    "* Import pandas to take advantage of panda series and find the logic vector for the cases."
   ]
  },
  {
   "cell_type": "code",
   "execution_count": 733,
   "metadata": {},
   "outputs": [
    {
     "data": {
      "text/plain": [
       "0             Moe Szyslak\n",
       "1    C.  Montgomery Burns\n",
       "2    Rev. Timothy Lovejoy\n",
       "3            Ned Flanders\n",
       "4           Homer Simpson\n",
       "5      Dr. Julius Hibbert\n",
       "dtype: object"
      ]
     },
     "execution_count": 733,
     "metadata": {},
     "output_type": "execute_result"
    }
   ],
   "source": [
    "#create data series using our list\n",
    "data=pd.Series(lst1)\n",
    "data"
   ]
  },
  {
   "cell_type": "code",
   "execution_count": 662,
   "metadata": {},
   "outputs": [
    {
     "data": {
      "text/plain": [
       "['Rev. ', 'Dr. ']"
      ]
     },
     "execution_count": 662,
     "metadata": {},
     "output_type": "execute_result"
    }
   ],
   "source": [
    "#compile pattern where title exists\n",
    "pattern=r'([a-zA-Z]{2,3}\\.\\s)'\n",
    "regex=re.compile(pattern)\n",
    "regex.findall(text3)"
   ]
  },
  {
   "cell_type": "code",
   "execution_count": 663,
   "metadata": {},
   "outputs": [
    {
     "data": {
      "text/plain": [
       "0    False\n",
       "1    False\n",
       "2     True\n",
       "3    False\n",
       "4    False\n",
       "5     True\n",
       "dtype: bool"
      ]
     },
     "execution_count": 663,
     "metadata": {},
     "output_type": "execute_result"
    }
   ],
   "source": [
    "#find logical vector where True is the instance that match the pattern\n",
    "data.str.contains(regex)"
   ]
  },
  {
   "cell_type": "markdown",
   "metadata": {},
   "source": [
    "#### c. Construct a logical vector indicating whether a character has a middle/second name.\n",
    "* Use similar approach to 2.b."
   ]
  },
  {
   "cell_type": "code",
   "execution_count": 707,
   "metadata": {},
   "outputs": [
    {
     "data": {
      "text/plain": [
       "['Montgomery']"
      ]
     },
     "execution_count": 707,
     "metadata": {},
     "output_type": "execute_result"
    }
   ],
   "source": [
    "#find the pattern for the string that goes after the first name\n",
    "pattern=r'(?=[A-Z]\\.\\s+([A-Z][a-z]+))'\n",
    "regex=re.compile(pattern)\n",
    "regex.findall(text3)"
   ]
  },
  {
   "cell_type": "code",
   "execution_count": 708,
   "metadata": {},
   "outputs": [
    {
     "data": {
      "text/plain": [
       "0    False\n",
       "1     True\n",
       "2    False\n",
       "3    False\n",
       "4    False\n",
       "5    False\n",
       "dtype: bool"
      ]
     },
     "execution_count": 708,
     "metadata": {},
     "output_type": "execute_result"
    }
   ],
   "source": [
    "#from our data series obtain logical vector where True is when the string matches the pattern\n",
    "data.str.contains(regex)"
   ]
  },
  {
   "cell_type": "markdown",
   "metadata": {},
   "source": [
    "### Task 3\n",
    "\n",
    "#### 3. Consider the HTML string below. We would like to extract the first HTML tag. To do so we write the regular expression “<.+>”. Explain why this fails and correct the expression.\n",
    "\n",
    "   * Test the given expression, then understand the problem. Through re.match and re.findall, we discovered it was printing either none or the entire string."
   ]
  },
  {
   "cell_type": "code",
   "execution_count": 509,
   "metadata": {},
   "outputs": [
    {
     "name": "stdout",
     "output_type": "stream",
     "text": [
      "<title>+++BREAKING NEWS+++<title>\n"
     ]
    }
   ],
   "source": [
    "text3=\"<title>+++BREAKING NEWS+++<title>\"\n",
    "print(text3)"
   ]
  },
  {
   "cell_type": "code",
   "execution_count": 710,
   "metadata": {},
   "outputs": [
    {
     "name": "stdout",
     "output_type": "stream",
     "text": [
      "None\n"
     ]
    }
   ],
   "source": [
    "#test the given expression with re.match\n",
    "text4=re.match(r'<.+>',text3)\n",
    "print(text4)"
   ]
  },
  {
   "cell_type": "markdown",
   "metadata": {},
   "source": [
    "This expression goes from the first to last instance of the character and therefore returns the entire string since it is withing '<' and '>', also called a greedy expression. The HTML format is incorrect and the second '<title>' instance should be '</title>'."
   ]
  },
  {
   "cell_type": "code",
   "execution_count": 617,
   "metadata": {},
   "outputs": [
    {
     "data": {
      "text/plain": [
       "<re.Match object; span=(0, 7), match='<title>'>"
      ]
     },
     "execution_count": 617,
     "metadata": {},
     "output_type": "execute_result"
    }
   ],
   "source": [
    "#use '?' to write a lazy expression\n",
    "re.match(r'(<.+?>)',text3)"
   ]
  },
  {
   "cell_type": "markdown",
   "metadata": {},
   "source": [
    "### Task 4\n",
    "#### 4. Consider the string “(5-3)^2=5^2-2*5*3+3^2” conforms to the binomial theorem. We would like to extract the formula in the string. To do so we write the regular expression “[^0-9=+*()]+”. Explain why this fails and correct the expression.\n",
    "* Similar approach to the previous question. Analyze the given expression and compare to the expected result."
   ]
  },
  {
   "cell_type": "code",
   "execution_count": 712,
   "metadata": {},
   "outputs": [
    {
     "name": "stdout",
     "output_type": "stream",
     "text": [
      "(5-3)^2=5^2-2*5*3+3^2\n"
     ]
    }
   ],
   "source": [
    "text5= \"(5-3)^2=5^2-2*5*3+3^2\"\n",
    "print(text5) #print and create the string"
   ]
  },
  {
   "cell_type": "code",
   "execution_count": 715,
   "metadata": {},
   "outputs": [
    {
     "name": "stdout",
     "output_type": "stream",
     "text": [
      "None\n"
     ]
    }
   ],
   "source": [
    "text6=re.match(r'“[^0-9=+*()]+',text5)\n",
    "#test the given expression\n",
    "print(text6) "
   ]
  },
  {
   "cell_type": "markdown",
   "metadata": {},
   "source": [
    "* The given expression contains '^' and '-'. Inside the [ ], '^' means that the following expression will be excluded. In the case of '-', it's used to indicate the range of an alphanumeric object.\n",
    "\n",
    "* To fix it we have to use backslah('\\'), to finish the function of the special characters."
   ]
  },
  {
   "cell_type": "code",
   "execution_count": 717,
   "metadata": {},
   "outputs": [
    {
     "name": "stdout",
     "output_type": "stream",
     "text": [
      "<re.Match object; span=(0, 21), match='(5-3)^2=5^2-2*5*3+3^2'>\n"
     ]
    }
   ],
   "source": [
    "text7=re.match(r'[-\\^0-9=+*()]+',text5)\n",
    "print(text7)"
   ]
  },
  {
   "cell_type": "code",
   "execution_count": null,
   "metadata": {},
   "outputs": [],
   "source": []
  }
 ],
 "metadata": {
  "kernelspec": {
   "display_name": "Python 3",
   "language": "python",
   "name": "python3"
  },
  "language_info": {
   "codemirror_mode": {
    "name": "ipython",
    "version": 3
   },
   "file_extension": ".py",
   "mimetype": "text/x-python",
   "name": "python",
   "nbconvert_exporter": "python",
   "pygments_lexer": "ipython3",
   "version": "3.7.6"
  }
 },
 "nbformat": 4,
 "nbformat_minor": 4
}
